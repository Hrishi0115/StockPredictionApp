{
 "cells": [
  {
   "cell_type": "code",
   "execution_count": 1,
   "metadata": {},
   "outputs": [
    {
     "data": {
      "text/plain": [
       "Table('AMZN_1Min_stock_data', MetaData(), Column('id', INTEGER(), table=<AMZN_1Min_stock_data>, primary_key=True, nullable=False, server_default=DefaultClause(<sqlalchemy.sql.elements.TextClause object at 0x0000022327733450>, for_update=False)), Column('symbol', VARCHAR(), table=<AMZN_1Min_stock_data>), Column('date', TIMESTAMP(), table=<AMZN_1Min_stock_data>), Column('open', DOUBLE_PRECISION(precision=53), table=<AMZN_1Min_stock_data>), Column('high', DOUBLE_PRECISION(precision=53), table=<AMZN_1Min_stock_data>), Column('low', DOUBLE_PRECISION(precision=53), table=<AMZN_1Min_stock_data>), Column('close', DOUBLE_PRECISION(precision=53), table=<AMZN_1Min_stock_data>), Column('volume', INTEGER(), table=<AMZN_1Min_stock_data>), schema=None)"
      ]
     },
     "execution_count": 1,
     "metadata": {},
     "output_type": "execute_result"
    }
   ],
   "source": [
    "from sqlalchemy import MetaData\n",
    "from database import engine\n",
    "from alpaca.data.timeframe import TimeFrame\n",
    "\n",
    "symbol = 'AMZN'\n",
    "timeframe = TimeFrame.Minute  # or 'hour', 'day', etc.\n",
    "\n",
    "table_name = f\"{symbol}_{timeframe}_stock_data\"\n",
    "metadata = MetaData() # used to collect information about the tables in the database\n",
    "metadata.reflect(bind=engine) \n",
    "\n",
    "table = metadata.tables[table_name]\n",
    "\n",
    "table"
   ]
  },
  {
   "cell_type": "code",
   "execution_count": 7,
   "metadata": {},
   "outputs": [
    {
     "name": "stdout",
     "output_type": "stream",
     "text": [
      "Table AMZN_1Min_stock_data already exists.\n"
     ]
    },
    {
     "data": {
      "text/plain": [
       "FacadeDict({})"
      ]
     },
     "execution_count": 7,
     "metadata": {},
     "output_type": "execute_result"
    }
   ],
   "source": [
    "from sqlalchemy import inspect, Table, Column, Integer, String, Float, DateTime, MetaData\n",
    "from database import engine\n",
    "\n",
    "\n",
    "metadata = MetaData() # creates a `MetaData` instance to hold the schema of the table\n",
    "table_name = f\"{symbol}_{timeframe}_stock_data\"\n",
    "\n",
    "inspector = inspect(engine) # uses the `inspector` to check if a table with the generated name already exists in the database\n",
    "\n",
    "if not inspector.has_table(table_name):\n",
    "    # if the table does not exist\n",
    "    table = Table(\n",
    "        table_name, metadata,\n",
    "        Column('id', Integer, primary_key=True),\n",
    "        Column('symbol', String),\n",
    "        Column('date', DateTime),\n",
    "        Column('open', Float),\n",
    "        Column('high', Float),\n",
    "        Column('low', Float),\n",
    "        Column('close', Float),\n",
    "        Column('volume', Integer),\n",
    "    )\n",
    "    # define the table schema with the specified columns\n",
    "\n",
    "    metadata.create_all(engine) # creates the table in the database\n",
    "    print(f\"Table {table_name} created.\")\n",
    "else:\n",
    "    print(f\"Table {table_name} already exists.\")\n",
    "\n",
    "metadata.tables\n"
   ]
  },
  {
   "cell_type": "code",
   "execution_count": 34,
   "metadata": {},
   "outputs": [],
   "source": [
    "from alpaca.data import StockHistoricalDataClient\n",
    "from alpaca.data.requests import StockBarsRequest\n",
    "from keys import api_key, api_secret\n",
    "from database import get_session, engine\n",
    "from sqlalchemy import MetaData\n",
    "\n",
    "symbol = 'AAPL'\n",
    "timeframe = TimeFrame.Minute  # or 'hour', 'day', etc.\n",
    "start = '2023-01-01'\n",
    "end = '2023-01-31'\n",
    "client = StockHistoricalDataClient(api_key, api_secret)\n",
    "\n",
    "request_params = StockBarsRequest(\n",
    "    symbol_or_symbols=symbol,\n",
    "    timeframe=timeframe,\n",
    "    start=start,\n",
    "    end=end\n",
    ")\n",
    "bars = client.get_stock_bars(request_params)\n",
    "# bars.df.reset_index()\n",
    "data = bars.df.reset_index()"
   ]
  },
  {
   "cell_type": "code",
   "execution_count": 1,
   "metadata": {},
   "outputs": [],
   "source": [
    "\n",
    "# table_name = f\"{symbol}_{timeframe}_stock_data\"\n",
    "# metadata = MetaData() # used to collect information about the tables in the database\n",
    "# metadata.reflect(bind=engine) # reflect is a method of `MetaData` that reads the database schema (tables, columns, constraints, etc.) from the database connected by \n",
    "# # engine\n",
    "# table = metadata.tables[table_name] # contains info about table with table name = table_name\n",
    "\n",
    "# x = data.to_dict(orient='records')\n"
   ]
  }
 ],
 "metadata": {
  "kernelspec": {
   "display_name": "venv",
   "language": "python",
   "name": "python3"
  },
  "language_info": {
   "codemirror_mode": {
    "name": "ipython",
    "version": 3
   },
   "file_extension": ".py",
   "mimetype": "text/x-python",
   "name": "python",
   "nbconvert_exporter": "python",
   "pygments_lexer": "ipython3",
   "version": "3.11.9"
  }
 },
 "nbformat": 4,
 "nbformat_minor": 2
}
