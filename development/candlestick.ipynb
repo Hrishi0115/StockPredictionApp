{
 "cells": [
  {
   "cell_type": "code",
   "execution_count": null,
   "metadata": {},
   "outputs": [],
   "source": [
    "import sys\n",
    "import os\n",
    "import pandas as pd\n",
    "import plotly.graph_objects as go\n",
    "\n",
    "# Add the parent directory to sys.path\n",
    "module_path = os.path.abspath(os.path.join('..'))\n",
    "if module_path not in sys.path:\n",
    "    sys.path.append(module_path)\n",
    "\n",
    "from data_pipeline_prototype.database import get_db_connection\n",
    "\n",
    "def fetch_data(symbol, timeframe, start_date, end_date):\n",
    "    table_name = f\"{symbol}_{timeframe}_stock_data\".lower()\n",
    "    \n",
    "    query = f\"\"\"\n",
    "    SELECT * FROM {table_name}\n",
    "    WHERE timestamp BETWEEN '{start_date}' AND '{end_date}'\n",
    "    ORDER BY timestamp\n",
    "    \"\"\"\n",
    "    \n",
    "    with get_db_connection() as conn:\n",
    "        df = pd.read_sql(query, conn)\n",
    "    \n",
    "    return df\n",
    "\n",
    "def generate_candlestick_chart(df, symbol):\n",
    "    fig = go.Figure(data=[go.Candlestick(x=df['timestamp'],\n",
    "                                         open=df['open'],\n",
    "                                         high=df['high'],\n",
    "                                         low=df['low'],\n",
    "                                         close=df['close'])])\n",
    "    fig.update_layout(\n",
    "        title=f'Candlestick Chart for {symbol}',\n",
    "        xaxis_title='Date',\n",
    "        yaxis_title='Price',\n",
    "        xaxis_rangeslider_visible=False\n",
    "    )\n",
    "    \n",
    "    fig.show()"
   ]
  },
  {
   "cell_type": "code",
   "execution_count": null,
   "metadata": {},
   "outputs": [],
   "source": [
    "\n",
    "symbol = 'MSFT'\n",
    "timeframe = '1Min'\n",
    "start_date = \"2023-01-03 12:00:00\"\n",
    "end_date = \"2023-01-05 14:00:00\"\n",
    "\n",
    "df = fetch_data(symbol, timeframe, start_date, end_date)\n",
    "generate_candlestick_chart(df, symbol)\n"
   ]
  }
 ],
 "metadata": {
  "kernelspec": {
   "display_name": "venv",
   "language": "python",
   "name": "python3"
  },
  "language_info": {
   "codemirror_mode": {
    "name": "ipython",
    "version": 3
   },
   "file_extension": ".py",
   "mimetype": "text/x-python",
   "name": "python",
   "nbconvert_exporter": "python",
   "pygments_lexer": "ipython3",
   "version": "3.11.9"
  }
 },
 "nbformat": 4,
 "nbformat_minor": 2
}
