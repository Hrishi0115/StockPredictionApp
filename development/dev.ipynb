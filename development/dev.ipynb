{
 "cells": [
  {
   "cell_type": "code",
   "execution_count": 2,
   "metadata": {},
   "outputs": [],
   "source": [
    "import os\n",
    "from dotenv import load_dotenv\n",
    "\n",
    "# load environment variables from .env file\n",
    "\n",
    "load_dotenv()\n",
    "\n",
    "# get API key from environment variables\n",
    "\n",
    "api_key = os.getenv('API_KEY')"
   ]
  },
  {
   "cell_type": "code",
   "execution_count": 20,
   "metadata": {},
   "outputs": [
    {
     "data": {
      "text/plain": [
       "1672531200"
      ]
     },
     "execution_count": 20,
     "metadata": {},
     "output_type": "execute_result"
    }
   ],
   "source": [
    "import requests\n",
    "import pandas as pd\n",
    "\n",
    "base_url = 'https://finnhub.io/api/v1'\n",
    "\n",
    "url = f\"{base_url}/stock/quote\"\n",
    "\n",
    "symbol = 'AAPL' # Apple\n",
    "start_date = '2023-01-01'\n",
    "end_date = '2023-12-31' # YYYY-MM-DD\n",
    "\n",
    "params = {\n",
    "    'symbol': symbol,\n",
    "    'resolution': 'D',\n",
    "    'from': int(pd.Timestamp(start_date).timestamp()),\n",
    "    'to': int(pd.Timestamp(end_date).timestamp()),\n",
    "    'token': api_key\n",
    "     \n",
    "}\n",
    "\n",
    "# response = requests.get(url, params = params)\n",
    "\n",
    "# response.json()\n",
    "\n",
    "int(pd.Timestamp(start_date).timestamp())"
   ]
  },
  {
   "cell_type": "code",
   "execution_count": 16,
   "metadata": {},
   "outputs": [
    {
     "name": "stdout",
     "output_type": "stream",
     "text": [
      "{'c': 192.25, 'd': 0.96, 'dp': 0.5019, 'h': 192.57, 'l': 189.91, 'o': 191.44, 'pc': 191.29, 't': 1717185603}\n"
     ]
    }
   ],
   "source": [
    "import requests\n",
    "\n",
    "base_url = 'https://finnhub.io/api/v1/quote'\n",
    "symbol = 'AAPL'\n",
    "\n",
    "params = {\n",
    "    'symbol': symbol,\n",
    "    'token': api_key\n",
    "}\n",
    "\n",
    "response = requests.get(base_url, params=params)\n",
    "\n",
    "print(response.json())\n"
   ]
  },
  {
   "cell_type": "code",
   "execution_count": 22,
   "metadata": {},
   "outputs": [],
   "source": [
    "# import finnhub\n",
    "\n",
    "# # setup client\n",
    "\n",
    "# finnhub_client = finnhub.Client(api_key=api_key)\n",
    "\n",
    "# res = finnhub_client.stock_candles('AAPL', 'D',1590988249, 1591852249)\n",
    "\n",
    "# print(res)"
   ]
  },
  {
   "cell_type": "code",
   "execution_count": 2,
   "metadata": {},
   "outputs": [
    {
     "data": {
      "text/plain": [
       "{   'account_blocked': False,\n",
       "    'account_number': 'PA3JJY0TFIKV',\n",
       "    'accrued_fees': '0',\n",
       "    'buying_power': '200000',\n",
       "    'cash': '100000',\n",
       "    'created_at': datetime.datetime(2024, 4, 30, 15, 7, 15, 624817, tzinfo=TzInfo(UTC)),\n",
       "    'crypto_status': <AccountStatus.ACTIVE: 'ACTIVE'>,\n",
       "    'currency': 'USD',\n",
       "    'daytrade_count': 0,\n",
       "    'daytrading_buying_power': '0',\n",
       "    'equity': '100000',\n",
       "    'id': UUID('29f760c1-8572-40de-9404-facb3841bf9a'),\n",
       "    'initial_margin': '0',\n",
       "    'last_equity': '100000',\n",
       "    'last_maintenance_margin': '0',\n",
       "    'long_market_value': '0',\n",
       "    'maintenance_margin': '0',\n",
       "    'multiplier': '2',\n",
       "    'non_marginable_buying_power': '100000',\n",
       "    'options_approved_level': 2,\n",
       "    'options_buying_power': '100000',\n",
       "    'options_trading_level': 2,\n",
       "    'pattern_day_trader': False,\n",
       "    'pending_transfer_in': '0',\n",
       "    'pending_transfer_out': None,\n",
       "    'portfolio_value': '100000',\n",
       "    'regt_buying_power': '200000',\n",
       "    'short_market_value': '0',\n",
       "    'shorting_enabled': True,\n",
       "    'sma': '100000',\n",
       "    'status': <AccountStatus.ACTIVE: 'ACTIVE'>,\n",
       "    'trade_suspended_by_user': False,\n",
       "    'trading_blocked': False,\n",
       "    'transfers_blocked': False}"
      ]
     },
     "execution_count": 2,
     "metadata": {},
     "output_type": "execute_result"
    }
   ],
   "source": [
    "from keys import api_key, api_secret\n",
    "\n",
    "\n",
    "# Initialise the Alpaca API\n",
    "\n",
    "from alpaca.trading.client import TradingClient\n",
    "\n",
    "# trading client\n",
    "\n",
    "trading_client = TradingClient(api_key, api_secret, paper=True)\n",
    "\n",
    "# Get our account information.\n",
    "account = trading_client.get_account()\n",
    "\n",
    "account"
   ]
  },
  {
   "cell_type": "code",
   "execution_count": 10,
   "metadata": {},
   "outputs": [
    {
     "data": {
      "text/plain": [
       "{'AAPL': {   'ask_exchange': 'V',\n",
       "     'ask_price': 194.12,\n",
       "     'ask_size': 1.0,\n",
       "     'bid_exchange': 'V',\n",
       "     'bid_price': 193.28,\n",
       "     'bid_size': 1.0,\n",
       "     'conditions': ['R'],\n",
       "     'symbol': 'AAPL',\n",
       "     'tape': 'C',\n",
       "     'timestamp': datetime.datetime(2024, 6, 3, 19, 25, 7, 452680, tzinfo=TzInfo(UTC))}}"
      ]
     },
     "execution_count": 10,
     "metadata": {},
     "output_type": "execute_result"
    }
   ],
   "source": [
    "from alpaca.data import StockHistoricalDataClient\n",
    "import os\n",
    "from dotenv import load_dotenv\n",
    "from keys import api_key, api_secret\n",
    "\n",
    "stock_client = StockHistoricalDataClient(api_key, api_secret)\n",
    "\n",
    "from alpaca.data.requests import StockLatestQuoteRequest\n",
    "\n",
    "request_params = StockLatestQuoteRequest(symbol_or_symbols=['AAPL'])\n",
    "\n",
    "latest_quote = stock_client.get_stock_latest_quote(request_params)\n",
    "\n",
    "latest_quote"
   ]
  },
  {
   "cell_type": "code",
   "execution_count": 14,
   "metadata": {},
   "outputs": [
    {
     "data": {
      "text/html": [
       "<div>\n",
       "<style scoped>\n",
       "    .dataframe tbody tr th:only-of-type {\n",
       "        vertical-align: middle;\n",
       "    }\n",
       "\n",
       "    .dataframe tbody tr th {\n",
       "        vertical-align: top;\n",
       "    }\n",
       "\n",
       "    .dataframe thead th {\n",
       "        text-align: right;\n",
       "    }\n",
       "</style>\n",
       "<table border=\"1\" class=\"dataframe\">\n",
       "  <thead>\n",
       "    <tr style=\"text-align: right;\">\n",
       "      <th></th>\n",
       "      <th></th>\n",
       "      <th>open</th>\n",
       "      <th>high</th>\n",
       "      <th>low</th>\n",
       "      <th>close</th>\n",
       "      <th>volume</th>\n",
       "      <th>trade_count</th>\n",
       "      <th>vwap</th>\n",
       "    </tr>\n",
       "    <tr>\n",
       "      <th>symbol</th>\n",
       "      <th>timestamp</th>\n",
       "      <th></th>\n",
       "      <th></th>\n",
       "      <th></th>\n",
       "      <th></th>\n",
       "      <th></th>\n",
       "      <th></th>\n",
       "      <th></th>\n",
       "    </tr>\n",
       "  </thead>\n",
       "  <tbody>\n",
       "    <tr>\n",
       "      <th rowspan=\"4\" valign=\"top\">AAPL</th>\n",
       "      <th>2024-05-28 04:00:00+00:00</th>\n",
       "      <td>191.51</td>\n",
       "      <td>193.000</td>\n",
       "      <td>189.10</td>\n",
       "      <td>189.99</td>\n",
       "      <td>52280051.0</td>\n",
       "      <td>702191.0</td>\n",
       "      <td>190.816855</td>\n",
       "    </tr>\n",
       "    <tr>\n",
       "      <th>2024-05-29 04:00:00+00:00</th>\n",
       "      <td>189.61</td>\n",
       "      <td>192.247</td>\n",
       "      <td>189.51</td>\n",
       "      <td>190.29</td>\n",
       "      <td>53068016.0</td>\n",
       "      <td>603502.0</td>\n",
       "      <td>191.113328</td>\n",
       "    </tr>\n",
       "    <tr>\n",
       "      <th>2024-05-30 04:00:00+00:00</th>\n",
       "      <td>190.76</td>\n",
       "      <td>192.180</td>\n",
       "      <td>190.63</td>\n",
       "      <td>191.29</td>\n",
       "      <td>49947941.0</td>\n",
       "      <td>568984.0</td>\n",
       "      <td>191.403209</td>\n",
       "    </tr>\n",
       "    <tr>\n",
       "      <th>2024-05-31 04:00:00+00:00</th>\n",
       "      <td>191.44</td>\n",
       "      <td>192.570</td>\n",
       "      <td>189.91</td>\n",
       "      <td>192.25</td>\n",
       "      <td>75158277.0</td>\n",
       "      <td>618230.0</td>\n",
       "      <td>191.618702</td>\n",
       "    </tr>\n",
       "  </tbody>\n",
       "</table>\n",
       "</div>"
      ],
      "text/plain": [
       "                                    open     high  ...  trade_count        vwap\n",
       "symbol timestamp                                   ...                         \n",
       "AAPL   2024-05-28 04:00:00+00:00  191.51  193.000  ...     702191.0  190.816855\n",
       "       2024-05-29 04:00:00+00:00  189.61  192.247  ...     603502.0  191.113328\n",
       "       2024-05-30 04:00:00+00:00  190.76  192.180  ...     568984.0  191.403209\n",
       "       2024-05-31 04:00:00+00:00  191.44  192.570  ...     618230.0  191.618702\n",
       "\n",
       "[4 rows x 7 columns]"
      ]
     },
     "execution_count": 14,
     "metadata": {},
     "output_type": "execute_result"
    }
   ],
   "source": [
    "from alpaca.data.requests import StockBarsRequest\n",
    "from alpaca.data.timeframe import TimeFrame\n",
    "\n",
    "# creating request object\n",
    "\n",
    "request_params = StockBarsRequest(\n",
    "    symbol_or_symbols=[\"AAPL\"],\n",
    "    timeframe=TimeFrame.Day,\n",
    "    start=\"2024-05-28\",\n",
    "    end=\"2024-06-01\"\n",
    "\n",
    ")\n",
    "\n",
    "bars = stock_client.get_stock_bars(request_params)\n",
    "\n",
    "\n",
    "bars.df"
   ]
  },
  {
   "cell_type": "code",
   "execution_count": 9,
   "metadata": {},
   "outputs": [],
   "source": [
    "# import requests\n",
    "# import pandas as pd \n",
    "\n",
    "# url = \"https://data.alpaca.markets/v2/stocks/bars?symbols=AAPL&timeframe=1Min&limit=1000&adjustment=raw&feed=sip&sort=asc\"\n",
    "\n",
    "# headers = {\n",
    "#     \"accept\": \"application/json\",\n",
    "#     \"APCA-API-KEY-ID\": api_key,\n",
    "#     \"APCA-API-SECRET-KEY\": secret\n",
    "# }\n",
    "\n",
    "# response = requests.get(url, headers=headers)\n",
    "\n",
    "# print(response.text)\n",
    "\n",
    "# Bare bones api call without any SDK / packages"
   ]
  },
  {
   "cell_type": "code",
   "execution_count": 18,
   "metadata": {},
   "outputs": [],
   "source": [
    "# # real-time websocket\n",
    "\n",
    "# from alpaca_trade_api.stream import Stream - alpaca-trade-api is deprecated now alpaca-py\n",
    "\n",
    "# async def print_quote(q):\n",
    "#     print('quote',q)\n",
    "\n",
    "# async def print_trade(t):\n",
    "#     print('trade',t)\n",
    "\n",
    "# def main():\n",
    "#     stream = Stream(api_key,secret_key, raw_data=True)\n",
    "#     stream.subscribe_crypto_quotes(print_quote, 'BTCUSD')\n",
    "#     stream.subscribe_crypto_trades(print_trade, 'BTCUSD')\n",
    "\n",
    "#     @stream.on_bar('BTCUSD')\n",
    "#     async def _(bar):\n",
    "#         print('bar', bar)\n",
    "\n",
    "#     stream.run()\n",
    "\n",
    "# if __name__ == \"__main__\":\n",
    "#     main()"
   ]
  },
  {
   "cell_type": "code",
   "execution_count": null,
   "metadata": {},
   "outputs": [],
   "source": [
    "# web socket live stream\n",
    "\n",
    "# general stream url schema:\n",
    "# wss://stream.data.alpaca.markets/{version}/{feed}\n",
    "\n"
   ]
  },
  {
   "cell_type": "code",
   "execution_count": null,
   "metadata": {},
   "outputs": [],
   "source": []
  }
 ],
 "metadata": {
  "kernelspec": {
   "display_name": "env",
   "language": "python",
   "name": "python3"
  },
  "language_info": {
   "codemirror_mode": {
    "name": "ipython",
    "version": 3
   },
   "file_extension": ".py",
   "mimetype": "text/x-python",
   "name": "python",
   "nbconvert_exporter": "python",
   "pygments_lexer": "ipython3",
   "version": "3.11.9"
  }
 },
 "nbformat": 4,
 "nbformat_minor": 2
}
